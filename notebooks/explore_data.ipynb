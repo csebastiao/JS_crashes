{
 "cells": [
  {
   "cell_type": "code",
   "execution_count": 1,
   "id": "ba3c22a6",
   "metadata": {},
   "outputs": [],
   "source": [
    "import geopandas as gpd\n",
    "import pandas as pd\n",
    "import osmnx as ox\n",
    "import shapely\n",
    "import networkx as nx\n",
    "import igraph as ig\n",
    "import numpy as np"
   ]
  },
  {
   "cell_type": "markdown",
   "id": "e7fe3232",
   "metadata": {},
   "source": [
    "Start working with the city first, and then do the same with the metropolitan area."
   ]
  },
  {
   "cell_type": "code",
   "execution_count": 2,
   "id": "ec9c510b",
   "metadata": {},
   "outputs": [],
   "source": [
    "FALLBACK_SPEED = 50\n",
    "BUFFER_DUPLICATE_LS = 8\n",
    "BUFFER_NEARBY = 15"
   ]
  },
  {
   "cell_type": "code",
   "execution_count": 3,
   "id": "470422ee",
   "metadata": {},
   "outputs": [
    {
     "data": {
      "text/plain": [
       "<Projected CRS: EPSG:32632>\n",
       "Name: WGS 84 / UTM zone 32N\n",
       "Axis Info [cartesian]:\n",
       "- E[east]: Easting (metre)\n",
       "- N[north]: Northing (metre)\n",
       "Area of Use:\n",
       "- name: Between 6°E and 12°E, northern hemisphere between equator and 84°N, onshore and offshore. Algeria. Austria. Cameroon. Denmark. Equatorial Guinea. France. Gabon. Germany. Italy. Libya. Liechtenstein. Monaco. Netherlands. Niger. Nigeria. Norway. Sao Tome and Principe. Svalbard. Sweden. Switzerland. Tunisia. Vatican City State.\n",
       "- bounds: (6.0, 0.0, 12.0, 84.0)\n",
       "Coordinate Operation:\n",
       "- name: UTM zone 32N\n",
       "- method: Transverse Mercator\n",
       "Datum: World Geodetic System 1984 ensemble\n",
       "- Ellipsoid: WGS 84\n",
       "- Prime Meridian: Greenwich"
      ]
     },
     "execution_count": 3,
     "metadata": {},
     "output_type": "execute_result"
    }
   ],
   "source": [
    "milano_poly = gpd.read_file(\"../data/raw/city_boundaries/Milano.shp\")\n",
    "proj_crs = milano_poly.crs\n",
    "proj_crs"
   ]
  },
  {
   "cell_type": "code",
   "execution_count": 4,
   "id": "d4a240b9",
   "metadata": {},
   "outputs": [],
   "source": [
    "milano_poly.to_crs(epsg=4326, inplace=True)"
   ]
  },
  {
   "cell_type": "code",
   "execution_count": 5,
   "id": "1fd353bc",
   "metadata": {},
   "outputs": [],
   "source": [
    "ox.settings.useful_tags_way += [\"parking:left\", \"parking:right\"]"
   ]
  },
  {
   "cell_type": "code",
   "execution_count": 6,
   "id": "73c76799",
   "metadata": {},
   "outputs": [],
   "source": [
    "G = ox.graph_from_polygon(milano_poly.geometry[0], network_type=\"drive\", simplify=False)"
   ]
  },
  {
   "cell_type": "code",
   "execution_count": 7,
   "id": "8ae0aea2",
   "metadata": {},
   "outputs": [],
   "source": [
    "G = ox.simplify_graph(\n",
    "    G, edge_attrs_differ=[\"highway\", \"parking:left\", \"parking:right\", \"maxspeed\"]\n",
    ")"
   ]
  },
  {
   "cell_type": "code",
   "execution_count": 8,
   "id": "ab162d7a",
   "metadata": {},
   "outputs": [],
   "source": [
    "G = ox.add_edge_speeds(G, fallback=FALLBACK_SPEED)"
   ]
  },
  {
   "cell_type": "code",
   "execution_count": 9,
   "id": "3dbefdc2",
   "metadata": {},
   "outputs": [],
   "source": [
    "G = ox.add_edge_travel_times(G)"
   ]
  },
  {
   "cell_type": "code",
   "execution_count": 10,
   "id": "20dfd425",
   "metadata": {},
   "outputs": [],
   "source": [
    "for node in G.nodes:\n",
    "    neighbors = set(list(G.predecessors(node)) + list(G.successors(node)))\n",
    "    n = len(neighbors)\n",
    "    d = G.degree(node)\n",
    "    if node in neighbors:\n",
    "        G.nodes[node][\"intersection\"] = True\n",
    "        continue\n",
    "    if G.out_degree(node) == 0 or G.in_degree(node) == 0:\n",
    "        G.nodes[node][\"intersection\"] = True\n",
    "        continue\n",
    "    if not ((n == 2) and (d in {2, 4})):\n",
    "        if n == 1:\n",
    "            G.nodes[node][\"intersection\"] = False\n",
    "        else:\n",
    "            G.nodes[node][\"intersection\"] = True\n",
    "        continue\n",
    "    G.nodes[node][\"intersection\"] = False"
   ]
  },
  {
   "cell_type": "code",
   "execution_count": 11,
   "id": "c07431c3",
   "metadata": {},
   "outputs": [],
   "source": [
    "gdf_nodes, gdf_edges = ox.graph_to_gdfs(G, nodes=True, edges=True)"
   ]
  },
  {
   "cell_type": "code",
   "execution_count": 12,
   "id": "6c6fdf17",
   "metadata": {},
   "outputs": [],
   "source": [
    "ox.save_graphml(G, \"../data/processed/Milan/Milan_graph_0_raw.graphml\")"
   ]
  },
  {
   "cell_type": "code",
   "execution_count": 13,
   "id": "6274c179",
   "metadata": {},
   "outputs": [],
   "source": [
    "ox.save_graph_geopackage(G, \"../data/processed/Milan/Milan_graph_0_raw.gpkg\")"
   ]
  },
  {
   "cell_type": "code",
   "execution_count": null,
   "id": "171ed4f7",
   "metadata": {},
   "outputs": [],
   "source": [
    "amenities_dict = {\n",
    "    \"public_transport\": [\"platform\"],\n",
    "    \"highway\": [\n",
    "        \"crossing\",\n",
    "        \"cyclist_waiting_aid\",\n",
    "        \"traffic_signals\",\n",
    "        \"street_lamp\",\n",
    "        \"traffic_mirror\",\n",
    "        \"bus_stop\",\n",
    "    ],\n",
    "    \"amenity\": [\"bicycle_parking\", \"parking\", \"marketplace\"],\n",
    "    \"building\": [\"parking\"],\n",
    "    \"place\": [\"square\"],\n",
    "    \"leisure\": [\"park\", \"garden\"],\n",
    "    \"shop\": True,\n",
    "    \"osmid\": True,\n",
    "}"
   ]
  },
  {
   "cell_type": "code",
   "execution_count": 15,
   "id": "1044d6d8",
   "metadata": {},
   "outputs": [],
   "source": [
    "gdf = ox.features_from_polygon(\n",
    "    milano_poly.geometry[0],\n",
    "    tags=amenities_dict,\n",
    ")"
   ]
  },
  {
   "cell_type": "code",
   "execution_count": 16,
   "id": "f5b35c20",
   "metadata": {},
   "outputs": [],
   "source": [
    "gdf.to_file(\"../data/processed/Milan/Milan_features_0_raw.gpkg\")"
   ]
  },
  {
   "cell_type": "code",
   "execution_count": 17,
   "id": "90e99b62",
   "metadata": {},
   "outputs": [],
   "source": [
    "def sort_values(x):\n",
    "    val = []\n",
    "    if x[\"public_transport\"] == \"platform\" or x[\"highway\"] == \"bus_stop\":\n",
    "        val += [\"public_transport_platform\"]\n",
    "    if x[\"leisure\"] in [\"park\", \"garden\"] and x[\"amenity\"] != \"parking\":\n",
    "        val += [\"green_area\"]\n",
    "    if (\n",
    "        (x[\"place\"] == \"square\" or x[\"amenity\"] == \"marketplace\")\n",
    "        and (x[\"leisure\"] not in [\"park\", \"garden\"])\n",
    "        and (x[\"amenity\"] != \"parking\")\n",
    "    ):\n",
    "        val += [\"public_square\"]\n",
    "    if not pd.isna(x[\"shop\"]):\n",
    "        val += [\"shop\"]\n",
    "    if (x[\"amenity\"] == \"parking\" or x[\"building\"] == \"parking\") and pd.isna(x[\"shop\"]):\n",
    "        val += [\"parking\"]\n",
    "    if x[\"amenity\"] == \"bicycle_parking\":\n",
    "        val += [\"bicycle_parking\"]\n",
    "    if x[\"highway\"] in [\n",
    "        \"crossing\",\n",
    "        \"cyclist_waiting_aid\",\n",
    "        \"traffic_signals\",\n",
    "        \"street_lamp\",\n",
    "        \"traffic_mirror\",\n",
    "    ]:\n",
    "        val += [x[\"highway\"]]\n",
    "    if len(val) < 1:\n",
    "        val += [None]\n",
    "    return val"
   ]
  },
  {
   "cell_type": "code",
   "execution_count": 18,
   "id": "0c8fc5ed",
   "metadata": {},
   "outputs": [],
   "source": [
    "vals = []\n",
    "for ind, row in gdf.iterrows():\n",
    "    vals.append(sort_values(row))\n",
    "gdf[\"type\"] = vals"
   ]
  },
  {
   "cell_type": "code",
   "execution_count": 19,
   "id": "916f817c",
   "metadata": {},
   "outputs": [
    {
     "data": {
      "application/vnd.microsoft.datawrangler.viewer.v0+json": {
       "columns": [
        {
         "name": "type",
         "rawType": "object",
         "type": "unknown"
        },
        {
         "name": "count",
         "rawType": "int64",
         "type": "integer"
        }
       ],
       "ref": "6d5f416f-9f6a-4c42-afe5-b541c959169a",
       "rows": [
        [
         "['crossing']",
         "21611"
        ],
        [
         "['shop']",
         "8352"
        ],
        [
         "['public_transport_platform']",
         "6199"
        ],
        [
         "['traffic_signals']",
         "3048"
        ],
        [
         "['parking']",
         "2581"
        ],
        [
         "['street_lamp']",
         "1956"
        ],
        [
         "['green_area']",
         "1698"
        ],
        [
         "['bicycle_parking']",
         "998"
        ],
        [
         "['public_square']",
         "96"
        ],
        [
         "['traffic_mirror']",
         "7"
        ]
       ],
       "shape": {
        "columns": 1,
        "rows": 10
       }
      },
      "text/plain": [
       "type\n",
       "[crossing]                     21611\n",
       "[shop]                          8352\n",
       "[public_transport_platform]     6199\n",
       "[traffic_signals]               3048\n",
       "[parking]                       2581\n",
       "[street_lamp]                   1956\n",
       "[green_area]                    1698\n",
       "[bicycle_parking]                998\n",
       "[public_square]                   96\n",
       "[traffic_mirror]                   7\n",
       "Name: count, dtype: int64"
      ]
     },
     "execution_count": 19,
     "metadata": {},
     "output_type": "execute_result"
    }
   ],
   "source": [
    "gdf[\"type\"].value_counts()"
   ]
  },
  {
   "cell_type": "code",
   "execution_count": 20,
   "id": "cf9e1ae6",
   "metadata": {},
   "outputs": [],
   "source": [
    "errors = gdf[gdf[\"type\"].apply(lambda x: True if len(str(x).split(\",\")) > 1 else False)]\n",
    "if len(errors) > 0:\n",
    "    for i in range(len(errors)):\n",
    "        print(\n",
    "            errors.index[i],\n",
    "            [\n",
    "                val\n",
    "                for val in errors.iloc[i].values\n",
    "                if (\n",
    "                    isinstance(val, shapely.Geometry)\n",
    "                    or isinstance(val, list)\n",
    "                    or isinstance(val, str)\n",
    "                )\n",
    "            ],\n",
    "        )"
   ]
  },
  {
   "cell_type": "code",
   "execution_count": 21,
   "id": "8fcc60f2",
   "metadata": {},
   "outputs": [],
   "source": [
    "gdf[\"type\"] = gdf[\"type\"].apply(lambda x: x[0])"
   ]
  },
  {
   "cell_type": "code",
   "execution_count": 22,
   "id": "a50fa579",
   "metadata": {},
   "outputs": [],
   "source": [
    "gdf.to_file(\"../data/processed/Milan/Milan_features_1_classified.gpkg\")"
   ]
  },
  {
   "cell_type": "code",
   "execution_count": 23,
   "id": "7d4657c5",
   "metadata": {},
   "outputs": [],
   "source": [
    "gdf_cleaned = gdf.copy()"
   ]
  },
  {
   "cell_type": "code",
   "execution_count": 24,
   "id": "4d1dd6dc",
   "metadata": {},
   "outputs": [
    {
     "name": "stdout",
     "output_type": "stream",
     "text": [
      "46546 44063\n"
     ]
    }
   ],
   "source": [
    "gdf_po = gdf[\n",
    "    gdf.geometry.apply(lambda x: True if isinstance(x, shapely.Point) else False)\n",
    "]\n",
    "gdf_po = gdf_po.to_crs(proj_crs)\n",
    "gdf_ls = gdf[\n",
    "    gdf.geometry.apply(lambda x: True if isinstance(x, shapely.LineString) else False)\n",
    "]\n",
    "gdf_ls = gdf_ls.to_crs(proj_crs)\n",
    "gdf_ls.geometry = gdf_ls.buffer(BUFFER_DUPLICATE_LS)\n",
    "duplicates = gpd.sjoin(\n",
    "    gdf_ls, gdf_po, how=\"inner\", predicate=\"intersects\", on_attribute=\"type\"\n",
    ")\n",
    "gdf_cleaned = gdf_cleaned.drop(duplicates.index.values)\n",
    "print(len(gdf), len(gdf_cleaned))"
   ]
  },
  {
   "cell_type": "code",
   "execution_count": 25,
   "id": "afb39931",
   "metadata": {},
   "outputs": [],
   "source": [
    "gdf_cleaned.geometry = gdf_cleaned.geometry.apply(\n",
    "    lambda x: x.interpolate(0.5, normalized=True)\n",
    "    if isinstance(x, shapely.LineString)\n",
    "    else x\n",
    ")"
   ]
  },
  {
   "cell_type": "code",
   "execution_count": 26,
   "id": "810e093c",
   "metadata": {},
   "outputs": [],
   "source": [
    "gdf_cleaned.to_file(\"../data/processed/Milan/Milan_features_2_classified_wols.gpkg\")"
   ]
  },
  {
   "cell_type": "code",
   "execution_count": 27,
   "id": "940c45a0",
   "metadata": {},
   "outputs": [],
   "source": [
    "vals = []\n",
    "for ind, row in gdf_cleaned.iterrows():\n",
    "    if (\n",
    "        isinstance(row.geometry, shapely.Polygon)\n",
    "        or isinstance(row.geometry, shapely.MultiPolygon)\n",
    "    ) and (row[\"type\"] in [\"shop\", \"public_transport_platform\", \"bicycle_parking\"]):\n",
    "        if isinstance(row.geometry, shapely.Polygon):\n",
    "            vals.append(row.geometry.centroid)\n",
    "        elif isinstance(row.geometry, shapely.MultiPolygon):\n",
    "            vals.append(shapely.Polygon(row.geometry).centroid)\n",
    "    else:\n",
    "        vals.append(row.geometry)\n",
    "gdf_cleaned.geometry = vals"
   ]
  },
  {
   "cell_type": "code",
   "execution_count": 28,
   "id": "48722d01",
   "metadata": {},
   "outputs": [
    {
     "data": {
      "application/vnd.microsoft.datawrangler.viewer.v0+json": {
       "columns": [
        {
         "name": "type",
         "rawType": "object",
         "type": "string"
        },
        {
         "name": "count",
         "rawType": "int64",
         "type": "integer"
        }
       ],
       "ref": "94a42d1c-9101-41d9-8dad-da099858eca3",
       "rows": [
        [
         "parking",
         "2315"
        ],
        [
         "green_area",
         "1692"
        ],
        [
         "public_square",
         "71"
        ]
       ],
       "shape": {
        "columns": 1,
        "rows": 3
       }
      },
      "text/plain": [
       "type\n",
       "parking          2315\n",
       "green_area       1692\n",
       "public_square      71\n",
       "Name: count, dtype: int64"
      ]
     },
     "execution_count": 28,
     "metadata": {},
     "output_type": "execute_result"
    }
   ],
   "source": [
    "gdf_cleaned[\n",
    "    gdf_cleaned.geometry.apply(\n",
    "        lambda x: True\n",
    "        if isinstance(x, shapely.Polygon) or isinstance(x, shapely.MultiPolygon)\n",
    "        else False\n",
    "    )\n",
    "][\"type\"].value_counts()"
   ]
  },
  {
   "cell_type": "code",
   "execution_count": 29,
   "id": "390defe1",
   "metadata": {},
   "outputs": [
    {
     "data": {
      "application/vnd.microsoft.datawrangler.viewer.v0+json": {
       "columns": [
        {
         "name": "type",
         "rawType": "object",
         "type": "string"
        },
        {
         "name": "count",
         "rawType": "int64",
         "type": "integer"
        }
       ],
       "ref": "40515fa9-1096-4cf1-bd86-d842e91f6ed8",
       "rows": [
        [
         "crossing",
         "21611"
        ],
        [
         "shop",
         "8352"
        ],
        [
         "public_transport_platform",
         "3716"
        ],
        [
         "traffic_signals",
         "3048"
        ],
        [
         "street_lamp",
         "1956"
        ],
        [
         "bicycle_parking",
         "998"
        ],
        [
         "parking",
         "266"
        ],
        [
         "public_square",
         "25"
        ],
        [
         "traffic_mirror",
         "7"
        ],
        [
         "green_area",
         "6"
        ]
       ],
       "shape": {
        "columns": 1,
        "rows": 10
       }
      },
      "text/plain": [
       "type\n",
       "crossing                     21611\n",
       "shop                          8352\n",
       "public_transport_platform     3716\n",
       "traffic_signals               3048\n",
       "street_lamp                   1956\n",
       "bicycle_parking                998\n",
       "parking                        266\n",
       "public_square                   25\n",
       "traffic_mirror                   7\n",
       "green_area                       6\n",
       "Name: count, dtype: int64"
      ]
     },
     "execution_count": 29,
     "metadata": {},
     "output_type": "execute_result"
    }
   ],
   "source": [
    "gdf_cleaned[\n",
    "    gdf_cleaned.geometry.apply(\n",
    "        lambda x: True if isinstance(x, shapely.Point) else False\n",
    "    )\n",
    "][\"type\"].value_counts()"
   ]
  },
  {
   "cell_type": "code",
   "execution_count": 30,
   "id": "15377f3e",
   "metadata": {},
   "outputs": [],
   "source": [
    "gdf_cleaned.to_file(\"../data/processed/Milan/Milan_features_3_simplified.gpkg\")"
   ]
  },
  {
   "cell_type": "code",
   "execution_count": 31,
   "id": "60e9c49d",
   "metadata": {},
   "outputs": [],
   "source": [
    "gdf_simple = gdf_cleaned[[\"type\", \"geometry\"]].copy()"
   ]
  },
  {
   "cell_type": "code",
   "execution_count": 32,
   "id": "15dd8086",
   "metadata": {},
   "outputs": [],
   "source": [
    "vals = []\n",
    "for ind, row in gdf_simple.iterrows():\n",
    "    vals.append(ind[0][0].upper() + str(ind[1]))\n",
    "gdf_simple[\"osmid\"] = vals\n",
    "gdf_simple = gdf_simple.set_index(\"osmid\")"
   ]
  },
  {
   "cell_type": "code",
   "execution_count": 33,
   "id": "feb7809f",
   "metadata": {},
   "outputs": [],
   "source": [
    "gdf_simple.to_file(\"../data/processed/Milan/Milan_features_4_dense.gpkg\")"
   ]
  },
  {
   "cell_type": "code",
   "execution_count": 34,
   "id": "e23a9fcd",
   "metadata": {},
   "outputs": [],
   "source": [
    "gdf_simple_poly = gdf_simple[\n",
    "    gdf_simple.geometry.apply(\n",
    "        lambda x: True\n",
    "        if isinstance(x, shapely.MultiPolygon) or isinstance(x, shapely.Polygon)\n",
    "        else False\n",
    "    )\n",
    "]"
   ]
  },
  {
   "cell_type": "code",
   "execution_count": 35,
   "id": "c3feb10a",
   "metadata": {},
   "outputs": [],
   "source": [
    "gdf_simple_poly_exploded = gdf_simple_poly.explode()"
   ]
  },
  {
   "cell_type": "code",
   "execution_count": 36,
   "id": "4a84c448",
   "metadata": {},
   "outputs": [],
   "source": [
    "gdf_simple_poly_exploded = gdf_simple_poly_exploded.to_crs(proj_crs)\n",
    "gdf_simple_poly_exploded.geometry = gdf_simple_poly_exploded.buffer(BUFFER_NEARBY)"
   ]
  },
  {
   "cell_type": "code",
   "execution_count": 37,
   "id": "868fabc5",
   "metadata": {},
   "outputs": [],
   "source": [
    "gdf_edges = gdf_edges.to_crs(proj_crs)"
   ]
  },
  {
   "cell_type": "code",
   "execution_count": 38,
   "id": "38fb96f5",
   "metadata": {},
   "outputs": [],
   "source": [
    "res = gpd.sjoin(gdf_edges, gdf_simple_poly_exploded, how=\"left\", predicate=\"intersects\")"
   ]
  },
  {
   "cell_type": "code",
   "execution_count": 39,
   "id": "ed67a707",
   "metadata": {},
   "outputs": [],
   "source": [
    "grouped_res = res.groupby([\"u\", \"v\", \"key\"])[\"type\"].agg(set)"
   ]
  },
  {
   "cell_type": "code",
   "execution_count": 40,
   "id": "4ddb2344",
   "metadata": {},
   "outputs": [
    {
     "data": {
      "text/plain": [
       "array([{nan}, {nan}, {'green_area', 'parking'}, ..., {'parking'}, {nan},\n",
       "       {nan}], shape=(26388,), dtype=object)"
      ]
     },
     "execution_count": 40,
     "metadata": {},
     "output_type": "execute_result"
    }
   ],
   "source": [
    "grouped_res.values"
   ]
  },
  {
   "cell_type": "code",
   "execution_count": 41,
   "id": "d890aa5e",
   "metadata": {},
   "outputs": [],
   "source": [
    "gdf_edges[\"near_parking\"] = [\n",
    "    True if \"parking\" in x else False for x in grouped_res.values\n",
    "]\n",
    "gdf_edges[\"near_park\"] = [\n",
    "    True if \"green_area\" in x else False for x in grouped_res.values\n",
    "]\n",
    "gdf_edges[\"near_square\"] = [\n",
    "    True if \"public_square\" in x else False for x in grouped_res.values\n",
    "]"
   ]
  },
  {
   "cell_type": "code",
   "execution_count": 42,
   "id": "2e58fdf6",
   "metadata": {},
   "outputs": [],
   "source": [
    "left_parking = [\n",
    "    True if (not pd.isna(val) and val != \"no\") else False\n",
    "    for val in gdf_edges[\"parking:left\"].values\n",
    "]\n",
    "right_parking = [\n",
    "    True if (not pd.isna(val) and val != \"no\") else False\n",
    "    for val in gdf_edges[\"parking:right\"].values\n",
    "]"
   ]
  },
  {
   "cell_type": "code",
   "execution_count": 43,
   "id": "3cf04a47",
   "metadata": {},
   "outputs": [],
   "source": [
    "gdf_edges[\"street_parking\"] = [\n",
    "    left or right for left, right in zip(left_parking, right_parking)\n",
    "]"
   ]
  },
  {
   "cell_type": "code",
   "execution_count": 44,
   "id": "0215ba22",
   "metadata": {},
   "outputs": [],
   "source": [
    "highway_dict = {\n",
    "    \"motorway\": 1,\n",
    "    \"trunk\": 2,\n",
    "    \"primary\": 3,\n",
    "    \"secondary\": 4,\n",
    "    \"tertiary\": 5,\n",
    "    \"unclassified\": 6,\n",
    "    \"residential\": 7,\n",
    "    \"living_street\": 7,\n",
    "    \"busway\": 8,\n",
    "    \"emergency_bay\": 8,\n",
    "    \"road\": 8,\n",
    "}\n",
    "\n",
    "gdf_edges[\"hierarchy\"] = gdf_edges[\"highway\"]\n",
    "gdf_edges[\"hierarchy\"] = gdf_edges[\"hierarchy\"].apply(lambda x: x.removesuffix(\"_link\"))\n",
    "gdf_edges[\"hierarchy\"] = gdf_edges[\"hierarchy\"].apply(lambda x: highway_dict[x])"
   ]
  },
  {
   "cell_type": "code",
   "execution_count": 45,
   "id": "e6299ebd",
   "metadata": {},
   "outputs": [],
   "source": [
    "gdf_edges[\"speed_kph\"] = gdf_edges[\"speed_kph\"].map(lambda x: int(round(x, -1)))"
   ]
  },
  {
   "cell_type": "code",
   "execution_count": 46,
   "id": "065cda35",
   "metadata": {},
   "outputs": [],
   "source": [
    "gdf_edges = gdf_edges.to_crs(epsg=4326)"
   ]
  },
  {
   "cell_type": "code",
   "execution_count": 47,
   "id": "99bb2793",
   "metadata": {},
   "outputs": [],
   "source": [
    "gdf_nodes[\"traffic_signals\"] = [\n",
    "    True if (isinstance(val, str) and \"traffic_signals\" in val) else False\n",
    "    for val in gdf_nodes[\"highway\"].values\n",
    "]"
   ]
  },
  {
   "cell_type": "code",
   "execution_count": 48,
   "id": "4e00cc72",
   "metadata": {},
   "outputs": [],
   "source": [
    "G = ox.graph_from_gdfs(gdf_nodes=gdf_nodes, gdf_edges=gdf_edges, graph_attrs=G.graph)"
   ]
  },
  {
   "cell_type": "code",
   "execution_count": 49,
   "id": "1abd35f0",
   "metadata": {},
   "outputs": [],
   "source": [
    "ox.save_graphml(G, \"../data/processed/Milan/Milan_graph_1_all.graphml\")\n",
    "ox.save_graph_geopackage(G, \"../data/processed/Milan/Milan_graph_1_all.gpkg\")"
   ]
  },
  {
   "cell_type": "code",
   "execution_count": 50,
   "id": "ba90ca26",
   "metadata": {},
   "outputs": [
    {
     "data": {
      "text/html": [
       "<div>\n",
       "<style scoped>\n",
       "    .dataframe tbody tr th:only-of-type {\n",
       "        vertical-align: middle;\n",
       "    }\n",
       "\n",
       "    .dataframe tbody tr th {\n",
       "        vertical-align: top;\n",
       "    }\n",
       "\n",
       "    .dataframe thead th {\n",
       "        text-align: right;\n",
       "    }\n",
       "</style>\n",
       "<table border=\"1\" class=\"dataframe\">\n",
       "  <thead>\n",
       "    <tr style=\"text-align: right;\">\n",
       "      <th></th>\n",
       "      <th></th>\n",
       "      <th></th>\n",
       "      <th>osmid</th>\n",
       "      <th>highway</th>\n",
       "      <th>lanes</th>\n",
       "      <th>name</th>\n",
       "      <th>oneway</th>\n",
       "      <th>reversed</th>\n",
       "      <th>length</th>\n",
       "      <th>speed_kph</th>\n",
       "      <th>travel_time</th>\n",
       "      <th>geometry</th>\n",
       "      <th>...</th>\n",
       "      <th>bridge</th>\n",
       "      <th>tunnel</th>\n",
       "      <th>width</th>\n",
       "      <th>access</th>\n",
       "      <th>est_width</th>\n",
       "      <th>near_parking</th>\n",
       "      <th>near_park</th>\n",
       "      <th>near_square</th>\n",
       "      <th>street_parking</th>\n",
       "      <th>hierarchy</th>\n",
       "    </tr>\n",
       "    <tr>\n",
       "      <th>u</th>\n",
       "      <th>v</th>\n",
       "      <th>key</th>\n",
       "      <th></th>\n",
       "      <th></th>\n",
       "      <th></th>\n",
       "      <th></th>\n",
       "      <th></th>\n",
       "      <th></th>\n",
       "      <th></th>\n",
       "      <th></th>\n",
       "      <th></th>\n",
       "      <th></th>\n",
       "      <th></th>\n",
       "      <th></th>\n",
       "      <th></th>\n",
       "      <th></th>\n",
       "      <th></th>\n",
       "      <th></th>\n",
       "      <th></th>\n",
       "      <th></th>\n",
       "      <th></th>\n",
       "      <th></th>\n",
       "      <th></th>\n",
       "    </tr>\n",
       "  </thead>\n",
       "  <tbody>\n",
       "    <tr>\n",
       "      <th rowspan=\"2\" valign=\"top\">10371529</th>\n",
       "      <th>743371634</th>\n",
       "      <th>0</th>\n",
       "      <td>274433644</td>\n",
       "      <td>primary</td>\n",
       "      <td>2</td>\n",
       "      <td>Via Novara</td>\n",
       "      <td>True</td>\n",
       "      <td>False</td>\n",
       "      <td>154.435012</td>\n",
       "      <td>50</td>\n",
       "      <td>10.992938</td>\n",
       "      <td>LINESTRING (9.07662 45.48756, 9.07469 45.48785)</td>\n",
       "      <td>...</td>\n",
       "      <td>NaN</td>\n",
       "      <td>NaN</td>\n",
       "      <td>NaN</td>\n",
       "      <td>NaN</td>\n",
       "      <td>NaN</td>\n",
       "      <td>False</td>\n",
       "      <td>False</td>\n",
       "      <td>False</td>\n",
       "      <td>False</td>\n",
       "      <td>3</td>\n",
       "    </tr>\n",
       "    <tr>\n",
       "      <th>743371622</th>\n",
       "      <th>0</th>\n",
       "      <td>26703159</td>\n",
       "      <td>tertiary</td>\n",
       "      <td>NaN</td>\n",
       "      <td>Via Novara</td>\n",
       "      <td>True</td>\n",
       "      <td>False</td>\n",
       "      <td>150.466270</td>\n",
       "      <td>40</td>\n",
       "      <td>12.127412</td>\n",
       "      <td>LINESTRING (9.07662 45.48756, 9.07611 45.48771...</td>\n",
       "      <td>...</td>\n",
       "      <td>NaN</td>\n",
       "      <td>NaN</td>\n",
       "      <td>NaN</td>\n",
       "      <td>NaN</td>\n",
       "      <td>NaN</td>\n",
       "      <td>False</td>\n",
       "      <td>False</td>\n",
       "      <td>False</td>\n",
       "      <td>False</td>\n",
       "      <td>5</td>\n",
       "    </tr>\n",
       "    <tr>\n",
       "      <th>10371530</th>\n",
       "      <th>2754579083</th>\n",
       "      <th>0</th>\n",
       "      <td>[270390234, 270390223]</td>\n",
       "      <td>primary</td>\n",
       "      <td>2</td>\n",
       "      <td>Via Novara</td>\n",
       "      <td>True</td>\n",
       "      <td>False</td>\n",
       "      <td>385.419906</td>\n",
       "      <td>70</td>\n",
       "      <td>19.821595</td>\n",
       "      <td>LINESTRING (9.10205 45.47981, 9.1017 45.47991,...</td>\n",
       "      <td>...</td>\n",
       "      <td>NaN</td>\n",
       "      <td>NaN</td>\n",
       "      <td>NaN</td>\n",
       "      <td>NaN</td>\n",
       "      <td>NaN</td>\n",
       "      <td>True</td>\n",
       "      <td>True</td>\n",
       "      <td>False</td>\n",
       "      <td>False</td>\n",
       "      <td>3</td>\n",
       "    </tr>\n",
       "    <tr>\n",
       "      <th rowspan=\"2\" valign=\"top\">13595397</th>\n",
       "      <th>271096577</th>\n",
       "      <th>0</th>\n",
       "      <td>195654896</td>\n",
       "      <td>secondary</td>\n",
       "      <td>2</td>\n",
       "      <td>Viale Certosa</td>\n",
       "      <td>False</td>\n",
       "      <td>False</td>\n",
       "      <td>41.927380</td>\n",
       "      <td>50</td>\n",
       "      <td>3.018771</td>\n",
       "      <td>LINESTRING (9.13066 45.49953, 9.13021 45.49973)</td>\n",
       "      <td>...</td>\n",
       "      <td>NaN</td>\n",
       "      <td>NaN</td>\n",
       "      <td>NaN</td>\n",
       "      <td>NaN</td>\n",
       "      <td>NaN</td>\n",
       "      <td>False</td>\n",
       "      <td>False</td>\n",
       "      <td>False</td>\n",
       "      <td>False</td>\n",
       "      <td>4</td>\n",
       "    </tr>\n",
       "    <tr>\n",
       "      <th>344814479</th>\n",
       "      <th>0</th>\n",
       "      <td>195654901</td>\n",
       "      <td>secondary</td>\n",
       "      <td>NaN</td>\n",
       "      <td>Viale Certosa</td>\n",
       "      <td>True</td>\n",
       "      <td>False</td>\n",
       "      <td>16.212785</td>\n",
       "      <td>50</td>\n",
       "      <td>1.203935</td>\n",
       "      <td>LINESTRING (9.13066 45.49953, 9.13066 45.49967)</td>\n",
       "      <td>...</td>\n",
       "      <td>NaN</td>\n",
       "      <td>NaN</td>\n",
       "      <td>NaN</td>\n",
       "      <td>NaN</td>\n",
       "      <td>NaN</td>\n",
       "      <td>False</td>\n",
       "      <td>False</td>\n",
       "      <td>False</td>\n",
       "      <td>False</td>\n",
       "      <td>4</td>\n",
       "    </tr>\n",
       "    <tr>\n",
       "      <th>...</th>\n",
       "      <th>...</th>\n",
       "      <th>...</th>\n",
       "      <td>...</td>\n",
       "      <td>...</td>\n",
       "      <td>...</td>\n",
       "      <td>...</td>\n",
       "      <td>...</td>\n",
       "      <td>...</td>\n",
       "      <td>...</td>\n",
       "      <td>...</td>\n",
       "      <td>...</td>\n",
       "      <td>...</td>\n",
       "      <td>...</td>\n",
       "      <td>...</td>\n",
       "      <td>...</td>\n",
       "      <td>...</td>\n",
       "      <td>...</td>\n",
       "      <td>...</td>\n",
       "      <td>...</td>\n",
       "      <td>...</td>\n",
       "      <td>...</td>\n",
       "      <td>...</td>\n",
       "      <td>...</td>\n",
       "    </tr>\n",
       "    <tr>\n",
       "      <th>13229923006</th>\n",
       "      <th>258161549</th>\n",
       "      <th>0</th>\n",
       "      <td>264287860</td>\n",
       "      <td>secondary</td>\n",
       "      <td>2</td>\n",
       "      <td>Viale Gran Sasso</td>\n",
       "      <td>True</td>\n",
       "      <td>False</td>\n",
       "      <td>49.282513</td>\n",
       "      <td>50</td>\n",
       "      <td>3.548341</td>\n",
       "      <td>LINESTRING (9.22323 45.48076, 9.22301 45.48085...</td>\n",
       "      <td>...</td>\n",
       "      <td>NaN</td>\n",
       "      <td>NaN</td>\n",
       "      <td>NaN</td>\n",
       "      <td>NaN</td>\n",
       "      <td>NaN</td>\n",
       "      <td>False</td>\n",
       "      <td>True</td>\n",
       "      <td>False</td>\n",
       "      <td>False</td>\n",
       "      <td>4</td>\n",
       "    </tr>\n",
       "    <tr>\n",
       "      <th>13229923008</th>\n",
       "      <th>2645692103</th>\n",
       "      <th>0</th>\n",
       "      <td>246295275</td>\n",
       "      <td>secondary</td>\n",
       "      <td>2</td>\n",
       "      <td>Piazzale Gabrio Piola</td>\n",
       "      <td>True</td>\n",
       "      <td>False</td>\n",
       "      <td>35.052402</td>\n",
       "      <td>50</td>\n",
       "      <td>2.523773</td>\n",
       "      <td>LINESTRING (9.22301 45.4806, 9.22294 45.48051,...</td>\n",
       "      <td>...</td>\n",
       "      <td>NaN</td>\n",
       "      <td>NaN</td>\n",
       "      <td>NaN</td>\n",
       "      <td>NaN</td>\n",
       "      <td>NaN</td>\n",
       "      <td>False</td>\n",
       "      <td>True</td>\n",
       "      <td>False</td>\n",
       "      <td>False</td>\n",
       "      <td>4</td>\n",
       "    </tr>\n",
       "    <tr>\n",
       "      <th rowspan=\"2\" valign=\"top\">13230320604</th>\n",
       "      <th>2516127373</th>\n",
       "      <th>0</th>\n",
       "      <td>23634440</td>\n",
       "      <td>residential</td>\n",
       "      <td>NaN</td>\n",
       "      <td>Via Antonio Raimondi</td>\n",
       "      <td>True</td>\n",
       "      <td>False</td>\n",
       "      <td>20.181762</td>\n",
       "      <td>40</td>\n",
       "      <td>1.991974</td>\n",
       "      <td>LINESTRING (9.14179 45.50336, 9.14178 45.5033,...</td>\n",
       "      <td>...</td>\n",
       "      <td>NaN</td>\n",
       "      <td>NaN</td>\n",
       "      <td>NaN</td>\n",
       "      <td>NaN</td>\n",
       "      <td>NaN</td>\n",
       "      <td>True</td>\n",
       "      <td>False</td>\n",
       "      <td>False</td>\n",
       "      <td>False</td>\n",
       "      <td>7</td>\n",
       "    </tr>\n",
       "    <tr>\n",
       "      <th>13230320605</th>\n",
       "      <th>0</th>\n",
       "      <td>[266430890, 502202854]</td>\n",
       "      <td>secondary</td>\n",
       "      <td>2</td>\n",
       "      <td>Via Console Marcello</td>\n",
       "      <td>True</td>\n",
       "      <td>False</td>\n",
       "      <td>20.734411</td>\n",
       "      <td>50</td>\n",
       "      <td>1.492878</td>\n",
       "      <td>LINESTRING (9.14179 45.50336, 9.14188 45.50328...</td>\n",
       "      <td>...</td>\n",
       "      <td>NaN</td>\n",
       "      <td>NaN</td>\n",
       "      <td>NaN</td>\n",
       "      <td>NaN</td>\n",
       "      <td>NaN</td>\n",
       "      <td>False</td>\n",
       "      <td>False</td>\n",
       "      <td>False</td>\n",
       "      <td>False</td>\n",
       "      <td>4</td>\n",
       "    </tr>\n",
       "    <tr>\n",
       "      <th>13230320605</th>\n",
       "      <th>256039870</th>\n",
       "      <th>0</th>\n",
       "      <td>266430890</td>\n",
       "      <td>secondary</td>\n",
       "      <td>NaN</td>\n",
       "      <td>Via Console Marcello</td>\n",
       "      <td>True</td>\n",
       "      <td>False</td>\n",
       "      <td>62.696707</td>\n",
       "      <td>50</td>\n",
       "      <td>4.514163</td>\n",
       "      <td>LINESTRING (9.14195 45.50321, 9.14215 45.50303...</td>\n",
       "      <td>...</td>\n",
       "      <td>NaN</td>\n",
       "      <td>NaN</td>\n",
       "      <td>NaN</td>\n",
       "      <td>NaN</td>\n",
       "      <td>NaN</td>\n",
       "      <td>False</td>\n",
       "      <td>False</td>\n",
       "      <td>False</td>\n",
       "      <td>False</td>\n",
       "      <td>4</td>\n",
       "    </tr>\n",
       "  </tbody>\n",
       "</table>\n",
       "<p>26388 rows × 25 columns</p>\n",
       "</div>"
      ],
      "text/plain": [
       "                                              osmid      highway lanes  \\\n",
       "u           v           key                                              \n",
       "10371529    743371634   0                 274433644      primary     2   \n",
       "            743371622   0                  26703159     tertiary   NaN   \n",
       "10371530    2754579083  0    [270390234, 270390223]      primary     2   \n",
       "13595397    271096577   0                 195654896    secondary     2   \n",
       "            344814479   0                 195654901    secondary   NaN   \n",
       "...                                             ...          ...   ...   \n",
       "13229923006 258161549   0                 264287860    secondary     2   \n",
       "13229923008 2645692103  0                 246295275    secondary     2   \n",
       "13230320604 2516127373  0                  23634440  residential   NaN   \n",
       "            13230320605 0    [266430890, 502202854]    secondary     2   \n",
       "13230320605 256039870   0                 266430890    secondary   NaN   \n",
       "\n",
       "                                              name  oneway reversed  \\\n",
       "u           v           key                                           \n",
       "10371529    743371634   0               Via Novara    True    False   \n",
       "            743371622   0               Via Novara    True    False   \n",
       "10371530    2754579083  0               Via Novara    True    False   \n",
       "13595397    271096577   0            Viale Certosa   False    False   \n",
       "            344814479   0            Viale Certosa    True    False   \n",
       "...                                            ...     ...      ...   \n",
       "13229923006 258161549   0         Viale Gran Sasso    True    False   \n",
       "13229923008 2645692103  0    Piazzale Gabrio Piola    True    False   \n",
       "13230320604 2516127373  0     Via Antonio Raimondi    True    False   \n",
       "            13230320605 0     Via Console Marcello    True    False   \n",
       "13230320605 256039870   0     Via Console Marcello    True    False   \n",
       "\n",
       "                                 length  speed_kph  travel_time  \\\n",
       "u           v           key                                       \n",
       "10371529    743371634   0    154.435012         50    10.992938   \n",
       "            743371622   0    150.466270         40    12.127412   \n",
       "10371530    2754579083  0    385.419906         70    19.821595   \n",
       "13595397    271096577   0     41.927380         50     3.018771   \n",
       "            344814479   0     16.212785         50     1.203935   \n",
       "...                                 ...        ...          ...   \n",
       "13229923006 258161549   0     49.282513         50     3.548341   \n",
       "13229923008 2645692103  0     35.052402         50     2.523773   \n",
       "13230320604 2516127373  0     20.181762         40     1.991974   \n",
       "            13230320605 0     20.734411         50     1.492878   \n",
       "13230320605 256039870   0     62.696707         50     4.514163   \n",
       "\n",
       "                                                                      geometry  \\\n",
       "u           v           key                                                      \n",
       "10371529    743371634   0      LINESTRING (9.07662 45.48756, 9.07469 45.48785)   \n",
       "            743371622   0    LINESTRING (9.07662 45.48756, 9.07611 45.48771...   \n",
       "10371530    2754579083  0    LINESTRING (9.10205 45.47981, 9.1017 45.47991,...   \n",
       "13595397    271096577   0      LINESTRING (9.13066 45.49953, 9.13021 45.49973)   \n",
       "            344814479   0      LINESTRING (9.13066 45.49953, 9.13066 45.49967)   \n",
       "...                                                                        ...   \n",
       "13229923006 258161549   0    LINESTRING (9.22323 45.48076, 9.22301 45.48085...   \n",
       "13229923008 2645692103  0    LINESTRING (9.22301 45.4806, 9.22294 45.48051,...   \n",
       "13230320604 2516127373  0    LINESTRING (9.14179 45.50336, 9.14178 45.5033,...   \n",
       "            13230320605 0    LINESTRING (9.14179 45.50336, 9.14188 45.50328...   \n",
       "13230320605 256039870   0    LINESTRING (9.14195 45.50321, 9.14215 45.50303...   \n",
       "\n",
       "                             ... bridge tunnel width access est_width  \\\n",
       "u           v           key  ...                                        \n",
       "10371529    743371634   0    ...    NaN    NaN   NaN    NaN       NaN   \n",
       "            743371622   0    ...    NaN    NaN   NaN    NaN       NaN   \n",
       "10371530    2754579083  0    ...    NaN    NaN   NaN    NaN       NaN   \n",
       "13595397    271096577   0    ...    NaN    NaN   NaN    NaN       NaN   \n",
       "            344814479   0    ...    NaN    NaN   NaN    NaN       NaN   \n",
       "...                          ...    ...    ...   ...    ...       ...   \n",
       "13229923006 258161549   0    ...    NaN    NaN   NaN    NaN       NaN   \n",
       "13229923008 2645692103  0    ...    NaN    NaN   NaN    NaN       NaN   \n",
       "13230320604 2516127373  0    ...    NaN    NaN   NaN    NaN       NaN   \n",
       "            13230320605 0    ...    NaN    NaN   NaN    NaN       NaN   \n",
       "13230320605 256039870   0    ...    NaN    NaN   NaN    NaN       NaN   \n",
       "\n",
       "                            near_parking near_park near_square street_parking  \\\n",
       "u           v           key                                                     \n",
       "10371529    743371634   0          False     False       False          False   \n",
       "            743371622   0          False     False       False          False   \n",
       "10371530    2754579083  0           True      True       False          False   \n",
       "13595397    271096577   0          False     False       False          False   \n",
       "            344814479   0          False     False       False          False   \n",
       "...                                  ...       ...         ...            ...   \n",
       "13229923006 258161549   0          False      True       False          False   \n",
       "13229923008 2645692103  0          False      True       False          False   \n",
       "13230320604 2516127373  0           True     False       False          False   \n",
       "            13230320605 0          False     False       False          False   \n",
       "13230320605 256039870   0          False     False       False          False   \n",
       "\n",
       "                            hierarchy  \n",
       "u           v           key            \n",
       "10371529    743371634   0           3  \n",
       "            743371622   0           5  \n",
       "10371530    2754579083  0           3  \n",
       "13595397    271096577   0           4  \n",
       "            344814479   0           4  \n",
       "...                               ...  \n",
       "13229923006 258161549   0           4  \n",
       "13229923008 2645692103  0           4  \n",
       "13230320604 2516127373  0           7  \n",
       "            13230320605 0           4  \n",
       "13230320605 256039870   0           4  \n",
       "\n",
       "[26388 rows x 25 columns]"
      ]
     },
     "execution_count": 50,
     "metadata": {},
     "output_type": "execute_result"
    }
   ],
   "source": [
    "gdf_edges"
   ]
  },
  {
   "cell_type": "code",
   "execution_count": 51,
   "id": "39d8d219",
   "metadata": {},
   "outputs": [],
   "source": [
    "gdf_edges_simplified = gdf_edges.drop(\n",
    "    [\n",
    "        \"lanes\",\n",
    "        \"junction\",\n",
    "        \"ref\",\n",
    "        \"bridge\",\n",
    "        \"tunnel\",\n",
    "        \"width\",\n",
    "        \"access\",\n",
    "        \"est_width\",\n",
    "        \"reversed\",\n",
    "        \"parking:right\",\n",
    "        \"parking:left\",\n",
    "        \"maxspeed\",\n",
    "    ],\n",
    "    axis=1,\n",
    ")"
   ]
  },
  {
   "cell_type": "code",
   "execution_count": 52,
   "id": "ab0bf9b7",
   "metadata": {},
   "outputs": [],
   "source": [
    "gdf_nodes_simplified = gdf_nodes.drop([\"highway\", \"ref\", \"junction\", \"railway\"], axis=1)"
   ]
  },
  {
   "cell_type": "code",
   "execution_count": 53,
   "id": "ac9c6eac",
   "metadata": {},
   "outputs": [],
   "source": [
    "G = ox.graph_from_gdfs(\n",
    "    gdf_nodes=gdf_nodes_simplified, gdf_edges=gdf_edges_simplified, graph_attrs=G.graph\n",
    ")"
   ]
  },
  {
   "cell_type": "code",
   "execution_count": 54,
   "id": "30de92f1",
   "metadata": {},
   "outputs": [],
   "source": [
    "ox.save_graphml(G, \"../data/processed/Milan/Milan_graph_2_dense.graphml\")\n",
    "ox.save_graph_geopackage(G, \"../data/processed/Milan/Milan_graph_2_dense.gpkg\")"
   ]
  },
  {
   "cell_type": "code",
   "execution_count": 55,
   "id": "6f0a2060",
   "metadata": {},
   "outputs": [],
   "source": [
    "G_ig = ig.Graph.from_networkx(G)"
   ]
  },
  {
   "cell_type": "code",
   "execution_count": 56,
   "id": "3f1ed7b3",
   "metadata": {},
   "outputs": [],
   "source": [
    "bet_length = G_ig.edge_betweenness(directed=True, weights=\"length\")"
   ]
  },
  {
   "cell_type": "code",
   "execution_count": 57,
   "id": "8c1c3292",
   "metadata": {},
   "outputs": [],
   "source": [
    "G_ig.es[\"edge_betweenness_centrality_length\"] = np.array(bet_length) / (\n",
    "    len(G.edges) * (len(G.edges) - 1)\n",
    ")"
   ]
  },
  {
   "cell_type": "code",
   "execution_count": 58,
   "id": "ccd169da",
   "metadata": {},
   "outputs": [],
   "source": [
    "bet_time = G_ig.edge_betweenness(directed=True, weights=\"travel_time\")"
   ]
  },
  {
   "cell_type": "code",
   "execution_count": 59,
   "id": "cfceade8",
   "metadata": {},
   "outputs": [],
   "source": [
    "G_ig.es[\"edge_betweenness_centrality_time\"] = np.array(bet_time) / (\n",
    "    len(G.edges) * (len(G.edges) - 1)\n",
    ")"
   ]
  },
  {
   "cell_type": "code",
   "execution_count": 60,
   "id": "c141e895",
   "metadata": {},
   "outputs": [],
   "source": [
    "H = G_ig.to_networkx()"
   ]
  },
  {
   "cell_type": "code",
   "execution_count": 61,
   "id": "a50ece39",
   "metadata": {},
   "outputs": [],
   "source": [
    "ox.save_graphml(H, \"../data/processed/Milan/Milan_graph_3_metrics.graphml\")\n",
    "ox.save_graph_geopackage(H, \"../data/processed/Milan/Milan_graph_3_metrics.gpkg\")"
   ]
  },
  {
   "cell_type": "code",
   "execution_count": 62,
   "id": "f59ea53b",
   "metadata": {},
   "outputs": [],
   "source": [
    "hnodes, hedges = ox.graph_to_gdfs(H)"
   ]
  },
  {
   "cell_type": "code",
   "execution_count": 63,
   "id": "ae9d1733",
   "metadata": {},
   "outputs": [],
   "source": [
    "gdf_edges_simplified = hedges.copy()\n",
    "gdf_edges_simplified[\"osmid\"] = hedges[\"osmid\"].apply(\n",
    "    lambda x: \"W\" + str(x) if not isinstance(x, list) else [\"W\" + str(val) for val in x]\n",
    ")\n",
    "gdf_edges_simplified = hedges.set_index(keys=\"osmid\")\n",
    "gdf_edges_simplified = gdf_edges_simplified.drop(\"_igraph_index\", axis=1)"
   ]
  },
  {
   "cell_type": "code",
   "execution_count": 64,
   "id": "f3880e84",
   "metadata": {},
   "outputs": [],
   "source": [
    "gdf_nodes_simplified = hnodes.copy()\n",
    "gdf_nodes_simplified.index = [\"N\" + str(x) for x in gdf_nodes_simplified.index]\n",
    "gdf_nodes_simplified = gdf_nodes_simplified.drop(\"_igraph_index\", axis=1)"
   ]
  },
  {
   "cell_type": "code",
   "execution_count": 65,
   "id": "047ec93f",
   "metadata": {},
   "outputs": [],
   "source": [
    "gdf_edges_simplified[\"origin\"] = \"road\"\n",
    "gdf_nodes_simplified[\"origin\"] = \"node\"\n",
    "gdf_simple[\"origin\"] = \"features\""
   ]
  },
  {
   "cell_type": "code",
   "execution_count": 66,
   "id": "37b9ab99",
   "metadata": {},
   "outputs": [],
   "source": [
    "nf = gpd.sjoin(\n",
    "    gdf_simple[gdf_simple.geometry.apply(lambda x: True if isinstance(x, shapely.Point) else False)],\n",
    "    gdf_nodes_simplified,\n",
    "    how=\"left\",\n",
    "    predicate=\"intersects\"\n",
    "    )"
   ]
  },
  {
   "cell_type": "code",
   "execution_count": 67,
   "id": "a2c5c56e",
   "metadata": {},
   "outputs": [],
   "source": [
    "duplicates = nf[pd.notna(nf[\"origin_right\"])].index.values"
   ]
  },
  {
   "cell_type": "code",
   "execution_count": 74,
   "id": "aef17b1b",
   "metadata": {},
   "outputs": [],
   "source": [
    "gdf_nodes_simplified_curated = gdf_nodes_simplified.drop(duplicates, axis=0)"
   ]
  },
  {
   "cell_type": "code",
   "execution_count": 75,
   "id": "26663b01",
   "metadata": {},
   "outputs": [],
   "source": [
    "gdf_nodes_simplified_curated = gdf_nodes_simplified_curated[gdf_nodes_simplified_curated[\"intersection\"].values]\n",
    "gdf_nodes_simplified_curated[\"type\"] = \"intersection\""
   ]
  },
  {
   "cell_type": "code",
   "execution_count": 76,
   "id": "83d428a2",
   "metadata": {},
   "outputs": [],
   "source": [
    "gdf_simple_curated = gdf_simple.copy()\n",
    "gdf_simple_curated[\"origin\"] = [\n",
    "    [row[\"origin\"], \"node\"] if ind in duplicates else row[\"origin\"]\n",
    "    for ind, row in gdf_simple_curated.iterrows()\n",
    "]\n",
    "gdf_simple_curated = gdf_simple_curated.drop_duplicates(\n",
    "    subset=[\"geometry\", \"type\"], keep=\"first\"\n",
    ")"
   ]
  },
  {
   "cell_type": "code",
   "execution_count": 77,
   "id": "982f4a4d",
   "metadata": {},
   "outputs": [],
   "source": [
    "joined = pd.concat(\n",
    "    [gdf_simple_curated, gdf_edges_simplified, gdf_nodes_simplified_curated]\n",
    ")"
   ]
  },
  {
   "cell_type": "code",
   "execution_count": 78,
   "id": "69d9d9f5",
   "metadata": {},
   "outputs": [
    {
     "data": {
      "text/html": [
       "<div>\n",
       "<style scoped>\n",
       "    .dataframe tbody tr th:only-of-type {\n",
       "        vertical-align: middle;\n",
       "    }\n",
       "\n",
       "    .dataframe tbody tr th {\n",
       "        vertical-align: top;\n",
       "    }\n",
       "\n",
       "    .dataframe thead th {\n",
       "        text-align: right;\n",
       "    }\n",
       "</style>\n",
       "<table border=\"1\" class=\"dataframe\">\n",
       "  <thead>\n",
       "    <tr style=\"text-align: right;\">\n",
       "      <th></th>\n",
       "      <th>name</th>\n",
       "      <th>speed_kph</th>\n",
       "      <th>near_square</th>\n",
       "      <th>hierarchy</th>\n",
       "      <th>geometry</th>\n",
       "      <th>near_park</th>\n",
       "      <th>length</th>\n",
       "      <th>travel_time</th>\n",
       "      <th>oneway</th>\n",
       "      <th>near_parking</th>\n",
       "      <th>highway</th>\n",
       "      <th>street_parking</th>\n",
       "      <th>edge_betweenness_centrality_length</th>\n",
       "      <th>edge_betweenness_centrality_time</th>\n",
       "      <th>origin</th>\n",
       "    </tr>\n",
       "    <tr>\n",
       "      <th>osmid</th>\n",
       "      <th></th>\n",
       "      <th></th>\n",
       "      <th></th>\n",
       "      <th></th>\n",
       "      <th></th>\n",
       "      <th></th>\n",
       "      <th></th>\n",
       "      <th></th>\n",
       "      <th></th>\n",
       "      <th></th>\n",
       "      <th></th>\n",
       "      <th></th>\n",
       "      <th></th>\n",
       "      <th></th>\n",
       "      <th></th>\n",
       "    </tr>\n",
       "  </thead>\n",
       "  <tbody>\n",
       "    <tr>\n",
       "      <th>274433644</th>\n",
       "      <td>Via Novara</td>\n",
       "      <td>50</td>\n",
       "      <td>False</td>\n",
       "      <td>3</td>\n",
       "      <td>LINESTRING (9.07662 45.48756, 9.07469 45.48785)</td>\n",
       "      <td>False</td>\n",
       "      <td>154.435012</td>\n",
       "      <td>10.992938</td>\n",
       "      <td>True</td>\n",
       "      <td>False</td>\n",
       "      <td>primary</td>\n",
       "      <td>False</td>\n",
       "      <td>0.000831</td>\n",
       "      <td>0.001288</td>\n",
       "      <td>road</td>\n",
       "    </tr>\n",
       "    <tr>\n",
       "      <th>26703159</th>\n",
       "      <td>Via Novara</td>\n",
       "      <td>40</td>\n",
       "      <td>False</td>\n",
       "      <td>5</td>\n",
       "      <td>LINESTRING (9.07662 45.48756, 9.07611 45.48771...</td>\n",
       "      <td>False</td>\n",
       "      <td>150.466270</td>\n",
       "      <td>12.127412</td>\n",
       "      <td>True</td>\n",
       "      <td>False</td>\n",
       "      <td>tertiary</td>\n",
       "      <td>False</td>\n",
       "      <td>0.001023</td>\n",
       "      <td>0.000478</td>\n",
       "      <td>road</td>\n",
       "    </tr>\n",
       "    <tr>\n",
       "      <th>274433661</th>\n",
       "      <td>Via Novara</td>\n",
       "      <td>50</td>\n",
       "      <td>False</td>\n",
       "      <td>3</td>\n",
       "      <td>LINESTRING (9.07469 45.48785, 9.07426 45.48793)</td>\n",
       "      <td>False</td>\n",
       "      <td>34.101035</td>\n",
       "      <td>2.427368</td>\n",
       "      <td>True</td>\n",
       "      <td>False</td>\n",
       "      <td>primary</td>\n",
       "      <td>False</td>\n",
       "      <td>0.000834</td>\n",
       "      <td>0.001297</td>\n",
       "      <td>road</td>\n",
       "    </tr>\n",
       "    <tr>\n",
       "      <th>59995455</th>\n",
       "      <td>Via Novara</td>\n",
       "      <td>40</td>\n",
       "      <td>False</td>\n",
       "      <td>5</td>\n",
       "      <td>LINESTRING (9.07469 45.48785, 9.07482 45.48791...</td>\n",
       "      <td>False</td>\n",
       "      <td>47.848772</td>\n",
       "      <td>3.856557</td>\n",
       "      <td>True</td>\n",
       "      <td>False</td>\n",
       "      <td>tertiary</td>\n",
       "      <td>False</td>\n",
       "      <td>0.000006</td>\n",
       "      <td>0.000009</td>\n",
       "      <td>road</td>\n",
       "    </tr>\n",
       "    <tr>\n",
       "      <th>59995448</th>\n",
       "      <td>Via Novara</td>\n",
       "      <td>40</td>\n",
       "      <td>False</td>\n",
       "      <td>5</td>\n",
       "      <td>LINESTRING (9.07492 45.4882, 9.07463 45.48832)</td>\n",
       "      <td>False</td>\n",
       "      <td>26.992731</td>\n",
       "      <td>2.175584</td>\n",
       "      <td>True</td>\n",
       "      <td>False</td>\n",
       "      <td>tertiary</td>\n",
       "      <td>False</td>\n",
       "      <td>0.001030</td>\n",
       "      <td>0.000487</td>\n",
       "      <td>road</td>\n",
       "    </tr>\n",
       "    <tr>\n",
       "      <th>...</th>\n",
       "      <td>...</td>\n",
       "      <td>...</td>\n",
       "      <td>...</td>\n",
       "      <td>...</td>\n",
       "      <td>...</td>\n",
       "      <td>...</td>\n",
       "      <td>...</td>\n",
       "      <td>...</td>\n",
       "      <td>...</td>\n",
       "      <td>...</td>\n",
       "      <td>...</td>\n",
       "      <td>...</td>\n",
       "      <td>...</td>\n",
       "      <td>...</td>\n",
       "      <td>...</td>\n",
       "    </tr>\n",
       "    <tr>\n",
       "      <th>55178931</th>\n",
       "      <td>Piazzale Cimitero Maggiore</td>\n",
       "      <td>50</td>\n",
       "      <td>False</td>\n",
       "      <td>4</td>\n",
       "      <td>LINESTRING (9.12201 45.50358, 9.12208 45.50371...</td>\n",
       "      <td>False</td>\n",
       "      <td>69.014339</td>\n",
       "      <td>5.124893</td>\n",
       "      <td>True</td>\n",
       "      <td>False</td>\n",
       "      <td>secondary</td>\n",
       "      <td>False</td>\n",
       "      <td>0.000148</td>\n",
       "      <td>0.000661</td>\n",
       "      <td>road</td>\n",
       "    </tr>\n",
       "    <tr>\n",
       "      <th>1418617031</th>\n",
       "      <td>None</td>\n",
       "      <td>50</td>\n",
       "      <td>False</td>\n",
       "      <td>4</td>\n",
       "      <td>LINESTRING (9.12201 45.50358, 9.12199 45.5036,...</td>\n",
       "      <td>True</td>\n",
       "      <td>10.432183</td>\n",
       "      <td>0.774677</td>\n",
       "      <td>True</td>\n",
       "      <td>False</td>\n",
       "      <td>secondary</td>\n",
       "      <td>False</td>\n",
       "      <td>0.000091</td>\n",
       "      <td>0.000093</td>\n",
       "      <td>road</td>\n",
       "    </tr>\n",
       "    <tr>\n",
       "      <th>55178931</th>\n",
       "      <td>Piazzale Cimitero Maggiore</td>\n",
       "      <td>50</td>\n",
       "      <td>False</td>\n",
       "      <td>4</td>\n",
       "      <td>LINESTRING (9.12245 45.50412, 9.12243 45.50415...</td>\n",
       "      <td>True</td>\n",
       "      <td>11.258415</td>\n",
       "      <td>0.836032</td>\n",
       "      <td>True</td>\n",
       "      <td>False</td>\n",
       "      <td>secondary</td>\n",
       "      <td>False</td>\n",
       "      <td>0.000069</td>\n",
       "      <td>0.000632</td>\n",
       "      <td>road</td>\n",
       "    </tr>\n",
       "    <tr>\n",
       "      <th>[284168625, 284168626]</th>\n",
       "      <td>Piazzale Cimitero Maggiore</td>\n",
       "      <td>40</td>\n",
       "      <td>False</td>\n",
       "      <td>6</td>\n",
       "      <td>LINESTRING (9.12245 45.50412, 9.12277 45.50449...</td>\n",
       "      <td>True</td>\n",
       "      <td>94.412946</td>\n",
       "      <td>9.299517</td>\n",
       "      <td>True</td>\n",
       "      <td>False</td>\n",
       "      <td>unclassified</td>\n",
       "      <td>False</td>\n",
       "      <td>0.000079</td>\n",
       "      <td>0.000028</td>\n",
       "      <td>road</td>\n",
       "    </tr>\n",
       "    <tr>\n",
       "      <th>284576526</th>\n",
       "      <td>None</td>\n",
       "      <td>90</td>\n",
       "      <td>False</td>\n",
       "      <td>1</td>\n",
       "      <td>LINESTRING (9.13333 45.52207, 9.13302 45.52193...</td>\n",
       "      <td>False</td>\n",
       "      <td>228.101899</td>\n",
       "      <td>9.409203</td>\n",
       "      <td>True</td>\n",
       "      <td>False</td>\n",
       "      <td>motorway</td>\n",
       "      <td>False</td>\n",
       "      <td>0.000019</td>\n",
       "      <td>0.000019</td>\n",
       "      <td>road</td>\n",
       "    </tr>\n",
       "  </tbody>\n",
       "</table>\n",
       "<p>26388 rows × 15 columns</p>\n",
       "</div>"
      ],
      "text/plain": [
       "                                              name  speed_kph  near_square  \\\n",
       "osmid                                                                        \n",
       "274433644                               Via Novara         50        False   \n",
       "26703159                                Via Novara         40        False   \n",
       "274433661                               Via Novara         50        False   \n",
       "59995455                                Via Novara         40        False   \n",
       "59995448                                Via Novara         40        False   \n",
       "...                                            ...        ...          ...   \n",
       "55178931                Piazzale Cimitero Maggiore         50        False   \n",
       "1418617031                                    None         50        False   \n",
       "55178931                Piazzale Cimitero Maggiore         50        False   \n",
       "[284168625, 284168626]  Piazzale Cimitero Maggiore         40        False   \n",
       "284576526                                     None         90        False   \n",
       "\n",
       "                        hierarchy  \\\n",
       "osmid                               \n",
       "274433644                       3   \n",
       "26703159                        5   \n",
       "274433661                       3   \n",
       "59995455                        5   \n",
       "59995448                        5   \n",
       "...                           ...   \n",
       "55178931                        4   \n",
       "1418617031                      4   \n",
       "55178931                        4   \n",
       "[284168625, 284168626]          6   \n",
       "284576526                       1   \n",
       "\n",
       "                                                                 geometry  \\\n",
       "osmid                                                                       \n",
       "274433644                 LINESTRING (9.07662 45.48756, 9.07469 45.48785)   \n",
       "26703159                LINESTRING (9.07662 45.48756, 9.07611 45.48771...   \n",
       "274433661                 LINESTRING (9.07469 45.48785, 9.07426 45.48793)   \n",
       "59995455                LINESTRING (9.07469 45.48785, 9.07482 45.48791...   \n",
       "59995448                   LINESTRING (9.07492 45.4882, 9.07463 45.48832)   \n",
       "...                                                                   ...   \n",
       "55178931                LINESTRING (9.12201 45.50358, 9.12208 45.50371...   \n",
       "1418617031              LINESTRING (9.12201 45.50358, 9.12199 45.5036,...   \n",
       "55178931                LINESTRING (9.12245 45.50412, 9.12243 45.50415...   \n",
       "[284168625, 284168626]  LINESTRING (9.12245 45.50412, 9.12277 45.50449...   \n",
       "284576526               LINESTRING (9.13333 45.52207, 9.13302 45.52193...   \n",
       "\n",
       "                        near_park      length  travel_time  oneway  \\\n",
       "osmid                                                                \n",
       "274433644                   False  154.435012    10.992938    True   \n",
       "26703159                    False  150.466270    12.127412    True   \n",
       "274433661                   False   34.101035     2.427368    True   \n",
       "59995455                    False   47.848772     3.856557    True   \n",
       "59995448                    False   26.992731     2.175584    True   \n",
       "...                           ...         ...          ...     ...   \n",
       "55178931                    False   69.014339     5.124893    True   \n",
       "1418617031                   True   10.432183     0.774677    True   \n",
       "55178931                     True   11.258415     0.836032    True   \n",
       "[284168625, 284168626]       True   94.412946     9.299517    True   \n",
       "284576526                   False  228.101899     9.409203    True   \n",
       "\n",
       "                        near_parking       highway  street_parking  \\\n",
       "osmid                                                                \n",
       "274433644                      False       primary           False   \n",
       "26703159                       False      tertiary           False   \n",
       "274433661                      False       primary           False   \n",
       "59995455                       False      tertiary           False   \n",
       "59995448                       False      tertiary           False   \n",
       "...                              ...           ...             ...   \n",
       "55178931                       False     secondary           False   \n",
       "1418617031                     False     secondary           False   \n",
       "55178931                       False     secondary           False   \n",
       "[284168625, 284168626]         False  unclassified           False   \n",
       "284576526                      False      motorway           False   \n",
       "\n",
       "                        edge_betweenness_centrality_length  \\\n",
       "osmid                                                        \n",
       "274433644                                         0.000831   \n",
       "26703159                                          0.001023   \n",
       "274433661                                         0.000834   \n",
       "59995455                                          0.000006   \n",
       "59995448                                          0.001030   \n",
       "...                                                    ...   \n",
       "55178931                                          0.000148   \n",
       "1418617031                                        0.000091   \n",
       "55178931                                          0.000069   \n",
       "[284168625, 284168626]                            0.000079   \n",
       "284576526                                         0.000019   \n",
       "\n",
       "                        edge_betweenness_centrality_time origin  \n",
       "osmid                                                            \n",
       "274433644                                       0.001288   road  \n",
       "26703159                                        0.000478   road  \n",
       "274433661                                       0.001297   road  \n",
       "59995455                                        0.000009   road  \n",
       "59995448                                        0.000487   road  \n",
       "...                                                  ...    ...  \n",
       "55178931                                        0.000661   road  \n",
       "1418617031                                      0.000093   road  \n",
       "55178931                                        0.000632   road  \n",
       "[284168625, 284168626]                          0.000028   road  \n",
       "284576526                                       0.000019   road  \n",
       "\n",
       "[26388 rows x 15 columns]"
      ]
     },
     "execution_count": 78,
     "metadata": {},
     "output_type": "execute_result"
    }
   ],
   "source": [
    "gdf_edges_simplified"
   ]
  },
  {
   "cell_type": "code",
   "execution_count": 79,
   "id": "b365ce3b",
   "metadata": {},
   "outputs": [
    {
     "data": {
      "text/html": [
       "<div>\n",
       "<style scoped>\n",
       "    .dataframe tbody tr th:only-of-type {\n",
       "        vertical-align: middle;\n",
       "    }\n",
       "\n",
       "    .dataframe tbody tr th {\n",
       "        vertical-align: top;\n",
       "    }\n",
       "\n",
       "    .dataframe thead th {\n",
       "        text-align: right;\n",
       "    }\n",
       "</style>\n",
       "<table border=\"1\" class=\"dataframe\">\n",
       "  <thead>\n",
       "    <tr style=\"text-align: right;\">\n",
       "      <th></th>\n",
       "      <th>type</th>\n",
       "      <th>geometry</th>\n",
       "      <th>origin</th>\n",
       "    </tr>\n",
       "    <tr>\n",
       "      <th>osmid</th>\n",
       "      <th></th>\n",
       "      <th></th>\n",
       "      <th></th>\n",
       "    </tr>\n",
       "  </thead>\n",
       "  <tbody>\n",
       "    <tr>\n",
       "      <th>N13919635</th>\n",
       "      <td>crossing</td>\n",
       "      <td>POINT (9.16073 45.4877)</td>\n",
       "      <td>features</td>\n",
       "    </tr>\n",
       "    <tr>\n",
       "      <th>N13919640</th>\n",
       "      <td>traffic_signals</td>\n",
       "      <td>POINT (9.15375 45.48613)</td>\n",
       "      <td>features</td>\n",
       "    </tr>\n",
       "    <tr>\n",
       "      <th>N13919655</th>\n",
       "      <td>crossing</td>\n",
       "      <td>POINT (9.16219 45.48767)</td>\n",
       "      <td>features</td>\n",
       "    </tr>\n",
       "    <tr>\n",
       "      <th>N13919747</th>\n",
       "      <td>traffic_signals</td>\n",
       "      <td>POINT (9.1608 45.4808)</td>\n",
       "      <td>features</td>\n",
       "    </tr>\n",
       "    <tr>\n",
       "      <th>N13919750</th>\n",
       "      <td>crossing</td>\n",
       "      <td>POINT (9.16551 45.48758)</td>\n",
       "      <td>features</td>\n",
       "    </tr>\n",
       "    <tr>\n",
       "      <th>...</th>\n",
       "      <td>...</td>\n",
       "      <td>...</td>\n",
       "      <td>...</td>\n",
       "    </tr>\n",
       "    <tr>\n",
       "      <th>W1437085224</th>\n",
       "      <td>parking</td>\n",
       "      <td>POLYGON ((9.20911 45.40497, 9.20931 45.40501, ...</td>\n",
       "      <td>features</td>\n",
       "    </tr>\n",
       "    <tr>\n",
       "      <th>W1437085225</th>\n",
       "      <td>parking</td>\n",
       "      <td>POLYGON ((9.20934 45.40499, 9.20954 45.40503, ...</td>\n",
       "      <td>features</td>\n",
       "    </tr>\n",
       "    <tr>\n",
       "      <th>W1437085226</th>\n",
       "      <td>parking</td>\n",
       "      <td>POLYGON ((9.20956 45.40505, 9.20974 45.40508, ...</td>\n",
       "      <td>features</td>\n",
       "    </tr>\n",
       "    <tr>\n",
       "      <th>W1437115636</th>\n",
       "      <td>parking</td>\n",
       "      <td>POLYGON ((9.2238 45.52267, 9.22386 45.52265, 9...</td>\n",
       "      <td>features</td>\n",
       "    </tr>\n",
       "    <tr>\n",
       "      <th>W1437115637</th>\n",
       "      <td>parking</td>\n",
       "      <td>POLYGON ((9.22384 45.52254, 9.22389 45.52253, ...</td>\n",
       "      <td>features</td>\n",
       "    </tr>\n",
       "  </tbody>\n",
       "</table>\n",
       "<p>44063 rows × 3 columns</p>\n",
       "</div>"
      ],
      "text/plain": [
       "                        type  \\\n",
       "osmid                          \n",
       "N13919635           crossing   \n",
       "N13919640    traffic_signals   \n",
       "N13919655           crossing   \n",
       "N13919747    traffic_signals   \n",
       "N13919750           crossing   \n",
       "...                      ...   \n",
       "W1437085224          parking   \n",
       "W1437085225          parking   \n",
       "W1437085226          parking   \n",
       "W1437115636          parking   \n",
       "W1437115637          parking   \n",
       "\n",
       "                                                      geometry    origin  \n",
       "osmid                                                                     \n",
       "N13919635                              POINT (9.16073 45.4877)  features  \n",
       "N13919640                             POINT (9.15375 45.48613)  features  \n",
       "N13919655                             POINT (9.16219 45.48767)  features  \n",
       "N13919747                               POINT (9.1608 45.4808)  features  \n",
       "N13919750                             POINT (9.16551 45.48758)  features  \n",
       "...                                                        ...       ...  \n",
       "W1437085224  POLYGON ((9.20911 45.40497, 9.20931 45.40501, ...  features  \n",
       "W1437085225  POLYGON ((9.20934 45.40499, 9.20954 45.40503, ...  features  \n",
       "W1437085226  POLYGON ((9.20956 45.40505, 9.20974 45.40508, ...  features  \n",
       "W1437115636  POLYGON ((9.2238 45.52267, 9.22386 45.52265, 9...  features  \n",
       "W1437115637  POLYGON ((9.22384 45.52254, 9.22389 45.52253, ...  features  \n",
       "\n",
       "[44063 rows x 3 columns]"
      ]
     },
     "execution_count": 79,
     "metadata": {},
     "output_type": "execute_result"
    }
   ],
   "source": [
    "gdf_simple"
   ]
  },
  {
   "cell_type": "code",
   "execution_count": 80,
   "id": "ee542f25",
   "metadata": {},
   "outputs": [],
   "source": [
    "joined.to_file(\"../data/processed/Milan/Milan_all.gpkg\")"
   ]
  },
  {
   "cell_type": "code",
   "execution_count": null,
   "id": "54d77902",
   "metadata": {},
   "outputs": [],
   "source": []
  }
 ],
 "metadata": {
  "kernelspec": {
   "display_name": "orderbike",
   "language": "python",
   "name": "python3"
  },
  "language_info": {
   "codemirror_mode": {
    "name": "ipython",
    "version": 3
   },
   "file_extension": ".py",
   "mimetype": "text/x-python",
   "name": "python",
   "nbconvert_exporter": "python",
   "pygments_lexer": "ipython3",
   "version": "3.13.5"
  }
 },
 "nbformat": 4,
 "nbformat_minor": 5
}
